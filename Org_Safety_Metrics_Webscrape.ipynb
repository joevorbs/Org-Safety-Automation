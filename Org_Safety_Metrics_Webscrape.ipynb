{
 "cells": [
  {
   "cell_type": "code",
   "execution_count": 564,
   "metadata": {},
   "outputs": [],
   "source": [
    "#Import packages\n",
    "import pandas as pd\n",
    "import numpy as np\n",
    "from selenium import webdriver\n",
    "from selenium.webdriver.common.keys import Keys\n",
    "from selenium.webdriver.support.ui import WebDriverWait\n",
    "from selenium.webdriver.support import expected_conditions as EC\n",
    "from selenium.webdriver.common.by import By\n",
    "from bs4 import BeautifulSoup\n",
    "import shutil\n",
    "import os\n",
    "import time"
   ]
  },
  {
   "cell_type": "code",
   "execution_count": 565,
   "metadata": {},
   "outputs": [],
   "source": [
    "#Initialize global variables for paths & date\n",
    "TodaysDate = time.strftime(\"%#m.%d.%Y\")\n",
    "dl_path = 'C:/Users/vorbej1/Downloads/'\n",
    "share_dr_path = 'X:/Ying_Ba/MH - Safety Metrics/IMS Reports/'"
   ]
  },
  {
   "cell_type": "code",
   "execution_count": 566,
   "metadata": {},
   "outputs": [],
   "source": [
    "#Load WebDriver\n",
    "driver = webdriver.Chrome('C:/Users/vorbej1/desktop/chromedriver.exe')"
   ]
  },
  {
   "cell_type": "code",
   "execution_count": 567,
   "metadata": {},
   "outputs": [],
   "source": [
    "#Load IMS website - organizational safety metrics\n",
    "driver.get('http://nyhixapp91v/ReportSiteIMS/GroupReports/GroupLevelReporting.aspx')"
   ]
  },
  {
   "cell_type": "code",
   "execution_count": 568,
   "metadata": {},
   "outputs": [],
   "source": [
    "#Filter organization by gas perations; value 3265 = gas operations\n",
    "driver.find_element_by_xpath(\"//select[@id='MainContent_ddlOrg']/option[@value='3265']\").click()"
   ]
  },
  {
   "cell_type": "code",
   "execution_count": 569,
   "metadata": {},
   "outputs": [],
   "source": [
    "#Filter FY to current (when FY19-20 is available..change value when new value is present)\n",
    "#driver.find_element_by_xpath(\"//select[@id='MainContent_ddlEndDate']/option[@value='3/31/2019']\").click()"
   ]
  },
  {
   "cell_type": "code",
   "execution_count": 570,
   "metadata": {},
   "outputs": [],
   "source": [
    "#Apply filters and run report\n",
    "driver.find_element_by_id('MainContent_Button1').click()"
   ]
  },
  {
   "cell_type": "code",
   "execution_count": 571,
   "metadata": {},
   "outputs": [],
   "source": [
    "time.sleep(1.5)"
   ]
  },
  {
   "cell_type": "code",
   "execution_count": 572,
   "metadata": {},
   "outputs": [],
   "source": [
    "#Select RTC report - FYTD 2019 (need to wait for metrics to load)\n",
    "driver.find_element_by_xpath('//a[@tabindex=\"3\"]').click()"
   ]
  },
  {
   "cell_type": "code",
   "execution_count": 573,
   "metadata": {},
   "outputs": [],
   "source": [
    "#Find ID of tabs; IDs are dyanmic so need to store\n",
    "windows = driver.window_handles"
   ]
  },
  {
   "cell_type": "code",
   "execution_count": 574,
   "metadata": {},
   "outputs": [],
   "source": [
    "#Store the main & RTC report tabs\n",
    "main_window = windows[0]\n",
    "rtc_window = windows[1]"
   ]
  },
  {
   "cell_type": "code",
   "execution_count": 575,
   "metadata": {},
   "outputs": [],
   "source": [
    "#Switch to RTC report tab\n",
    "driver.switch_to.window(rtc_window)"
   ]
  },
  {
   "cell_type": "code",
   "execution_count": 576,
   "metadata": {},
   "outputs": [],
   "source": [
    "#Export the report & rename as all reports download with same name\n",
    "driver.find_element_by_id('ctl00_MainContent_ReportViewer1_ctl05_ctl04_ctl00_ButtonLink').click()\n",
    "driver.find_element_by_link_text(\"Excel\").click()"
   ]
  },
  {
   "cell_type": "code",
   "execution_count": 577,
   "metadata": {},
   "outputs": [],
   "source": [
    "#Allow time for report to download\n",
    "time.sleep(1.5)"
   ]
  },
  {
   "cell_type": "code",
   "execution_count": 604,
   "metadata": {},
   "outputs": [],
   "source": [
    "#Move report out of downloads folder & add date report ran\n",
    "shutil.move(dl_path + 'GroupLevelIncidents.xls', 'X:/Ying_Ba/MH - Safety Metrics/IMS Reports/RTC' + \" \" + TodaysDate + '.xls')"
   ]
  },
  {
   "cell_type": "code",
   "execution_count": 579,
   "metadata": {},
   "outputs": [],
   "source": [
    "#Move to preventable RTC report"
   ]
  },
  {
   "cell_type": "code",
   "execution_count": 580,
   "metadata": {},
   "outputs": [],
   "source": [
    "#Switch back to main tab\n",
    "driver.switch_to.window(main_window)"
   ]
  },
  {
   "cell_type": "code",
   "execution_count": 581,
   "metadata": {},
   "outputs": [],
   "source": [
    "#Select Preventable RTC report\n",
    "driver.find_element_by_xpath('//a[@tabindex=\"5\"]').click()"
   ]
  },
  {
   "cell_type": "code",
   "execution_count": 582,
   "metadata": {},
   "outputs": [],
   "source": [
    "#Switch to Preventable RTC report tab\n",
    "prev_rtc_window = driver.window_handles[2]\n",
    "driver.switch_to.window(prev_rtc_window)"
   ]
  },
  {
   "cell_type": "code",
   "execution_count": 583,
   "metadata": {},
   "outputs": [],
   "source": [
    "#Export the report\n",
    "driver.find_element_by_id('ctl00_MainContent_ReportViewer1_ctl05_ctl04_ctl00_ButtonLink').click()\n",
    "driver.find_element_by_link_text(\"Excel\").click()"
   ]
  },
  {
   "cell_type": "code",
   "execution_count": 584,
   "metadata": {},
   "outputs": [],
   "source": [
    "#Allow time for report to download\n",
    "time.sleep(1.5)"
   ]
  },
  {
   "cell_type": "code",
   "execution_count": 603,
   "metadata": {},
   "outputs": [],
   "source": [
    "#Move report out of downloads folder & add date report ran\n",
    "shutil.move(dl_path + 'GroupLevelIncidents.xls', 'X:/Ying_Ba/MH - Safety Metrics/IMS Reports/Prev_RTC' + \" \" + TodaysDate + '.xls')"
   ]
  },
  {
   "cell_type": "code",
   "execution_count": 586,
   "metadata": {},
   "outputs": [],
   "source": [
    "#Move to preventable RTC report"
   ]
  },
  {
   "cell_type": "code",
   "execution_count": 587,
   "metadata": {},
   "outputs": [],
   "source": [
    "#Switch back to main tab\n",
    "driver.switch_to.window(main_window)"
   ]
  },
  {
   "cell_type": "code",
   "execution_count": 588,
   "metadata": {},
   "outputs": [],
   "source": [
    "#Select OSHA Incidents report\n",
    "driver.find_element_by_xpath('//a[@tabindex=\"7\"]').click()"
   ]
  },
  {
   "cell_type": "code",
   "execution_count": 589,
   "metadata": {},
   "outputs": [],
   "source": [
    "#Switch to OSHA Incidents report tab\n",
    "osha_window = driver.window_handles[3]\n",
    "driver.switch_to.window(osha_window)"
   ]
  },
  {
   "cell_type": "code",
   "execution_count": 590,
   "metadata": {},
   "outputs": [],
   "source": [
    "#Export the report\n",
    "driver.find_element_by_id('ctl00_MainContent_ReportViewer1_ctl05_ctl04_ctl00_ButtonLink').click()\n",
    "driver.find_element_by_link_text(\"Excel\").click()"
   ]
  },
  {
   "cell_type": "code",
   "execution_count": 591,
   "metadata": {},
   "outputs": [],
   "source": [
    "#Allow time for report to download\n",
    "time.sleep(1.5)"
   ]
  },
  {
   "cell_type": "code",
   "execution_count": 602,
   "metadata": {},
   "outputs": [],
   "source": [
    "#Move report out of downloads folder & add date report ran\n",
    "shutil.move(dl_path + 'GroupLevelIncidents.xls', 'X:/Ying_Ba/MH - Safety Metrics/IMS Reports/OSHA_Inc' + \" \" + TodaysDate + '.xls')"
   ]
  },
  {
   "cell_type": "code",
   "execution_count": 593,
   "metadata": {},
   "outputs": [],
   "source": [
    "#Move to OSHA Incidents report"
   ]
  },
  {
   "cell_type": "code",
   "execution_count": 594,
   "metadata": {},
   "outputs": [],
   "source": [
    "#Switch back to main tab\n",
    "driver.switch_to.window(main_window)"
   ]
  },
  {
   "cell_type": "code",
   "execution_count": 595,
   "metadata": {},
   "outputs": [],
   "source": [
    "#Select Lost Time Incidents report\n",
    "driver.find_element_by_xpath('//a[@tabindex=\"11\"]').click()"
   ]
  },
  {
   "cell_type": "code",
   "execution_count": 596,
   "metadata": {},
   "outputs": [],
   "source": [
    "#Switch to Lost Time Incidents report tab\n",
    "lost_time_window = driver.window_handles[4]\n",
    "driver.switch_to.window(lost_time_window)"
   ]
  },
  {
   "cell_type": "code",
   "execution_count": 597,
   "metadata": {},
   "outputs": [],
   "source": [
    "#Export the report\n",
    "driver.find_element_by_id('ctl00_MainContent_ReportViewer1_ctl05_ctl04_ctl00_ButtonLink').click()\n",
    "driver.find_element_by_link_text(\"Excel\").click()"
   ]
  },
  {
   "cell_type": "code",
   "execution_count": 598,
   "metadata": {},
   "outputs": [],
   "source": [
    "#Allow time for report to download\n",
    "time.sleep(1.5)"
   ]
  },
  {
   "cell_type": "code",
   "execution_count": 601,
   "metadata": {
    "scrolled": true
   },
   "outputs": [],
   "source": [
    "#Move report out of downloads folder & add date report ran\n",
    "shutil.move(dl_path + 'GroupLevelIncidents.xls','X:/Ying_Ba/MH - Safety Metrics/IMS Reports/Lost_Time' + \" \" + TodaysDate + '.xls')"
   ]
  },
  {
   "cell_type": "code",
   "execution_count": 600,
   "metadata": {},
   "outputs": [],
   "source": [
    "#Loop to open and append each report to a dataframe\n",
    "files = os.listdir(share_dr_path)\n",
    "ims_report = pd.DataFrame()\n",
    "\n",
    "for f in files:\n",
    "    os.chdir(share_dr_path)\n",
    "    data = pd.read_excel(f, sheet_name = 'GroupLevelIncidents', skiprows=4)\n",
    "    ims_report = ims_report.append(data)\n",
    "\n",
    "#Write to xls for alteryx input \n",
    "ims_report.to_excel('X:/Ying_Ba/MH - Safety Metrics/Input/ims_report.xls')"
   ]
  }
 ],
 "metadata": {
  "kernelspec": {
   "display_name": "Python 3",
   "language": "python",
   "name": "python3"
  },
  "language_info": {
   "codemirror_mode": {
    "name": "ipython",
    "version": 3
   },
   "file_extension": ".py",
   "mimetype": "text/x-python",
   "name": "python",
   "nbconvert_exporter": "python",
   "pygments_lexer": "ipython3",
   "version": "3.7.1"
  }
 },
 "nbformat": 4,
 "nbformat_minor": 2
}
