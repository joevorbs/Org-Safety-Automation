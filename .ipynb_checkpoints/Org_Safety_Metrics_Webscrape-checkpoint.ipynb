{
 "cells": [
  {
   "cell_type": "code",
   "execution_count": 1,
   "metadata": {},
   "outputs": [],
   "source": [
    "#Import packages\n",
    "import pandas as pd\n",
    "import numpy as np\n",
    "from selenium import webdriver\n",
    "from selenium.webdriver.common.keys import Keys\n",
    "from selenium.webdriver.support.ui import WebDriverWait\n",
    "from selenium.webdriver.support import expected_conditions as EC\n",
    "from selenium.webdriver.common.by import By\n",
    "from bs4 import BeautifulSoup\n",
    "import shutil\n",
    "import os\n",
    "import time"
   ]
  },
  {
   "cell_type": "code",
   "execution_count": null,
   "metadata": {},
   "outputs": [],
   "source": [
    "#Todays Date for Reports \n",
    "TodaysDate = time.strftime(\"%#m.%d.%Y\")"
   ]
  },
  {
   "cell_type": "code",
   "execution_count": 4,
   "metadata": {},
   "outputs": [],
   "source": [
    "#Load WebDriver\n",
    "driver = webdriver.Chrome('C:/Users/vorbej1/desktop/chromedriver.exe')"
   ]
  },
  {
   "cell_type": "code",
   "execution_count": 5,
   "metadata": {},
   "outputs": [],
   "source": [
    "#Load IMS website - organizational safety metrics\n",
    "driver.get('http://nyhixapp91v/ReportSiteIMS/GroupReports/GroupLevelReporting.aspx')"
   ]
  },
  {
   "cell_type": "code",
   "execution_count": null,
   "metadata": {},
   "outputs": [],
   "source": [
    "#Filter organization by gas perations; value 3265 = gas operations\n",
    "driver.find_element_by_xpath(\"//select[@id='MainContent_ddlOrg']/option[@value='3265']\").click()"
   ]
  },
  {
   "cell_type": "code",
   "execution_count": null,
   "metadata": {},
   "outputs": [],
   "source": [
    "#Filter FY to current (when FY19-20 is available..change value when new value is present)\n",
    "#driver.find_element_by_xpath(\"//select[@id='MainContent_ddlEndDate']/option[@value='3/31/2019']\").click()"
   ]
  },
  {
   "cell_type": "code",
   "execution_count": null,
   "metadata": {},
   "outputs": [],
   "source": [
    "#Apply filters and run report\n",
    "driver.find_element_by_id('MainContent_Button1').click()"
   ]
  },
  {
   "cell_type": "code",
   "execution_count": null,
   "metadata": {},
   "outputs": [],
   "source": [
    "time.sleep(1.5)"
   ]
  },
  {
   "cell_type": "code",
   "execution_count": null,
   "metadata": {},
   "outputs": [],
   "source": [
    "#Select RTC report - FYTD 2019 (need to wait for metrics to load)\n",
    "#try:\n",
    "    #element = WebDriverWait(driver, 30).until(\n",
    "        #EC.presence_of_element_located((By.ID, 'VisibleReportContentctl00_MainContent_ReportViewer1_ctl09'))\n",
    "    #)\n",
    "#finally:\n",
    "driver.find_element_by_xpath('//a[@tabindex=\"3\"]').click()"
   ]
  },
  {
   "cell_type": "code",
   "execution_count": null,
   "metadata": {},
   "outputs": [],
   "source": [
    "#Find ID of tabs; IDs are dyanmic so need to store\n",
    "windows = driver.window_handles\n",
    "windows"
   ]
  },
  {
   "cell_type": "code",
   "execution_count": null,
   "metadata": {},
   "outputs": [],
   "source": [
    "#Store the main & RTC report tabs\n",
    "main_window = windows[0]\n",
    "rtc_window = windows[1]"
   ]
  },
  {
   "cell_type": "code",
   "execution_count": null,
   "metadata": {},
   "outputs": [],
   "source": [
    "#Switch to RTC report tab\n",
    "driver.switch_to.window(rtc_window)"
   ]
  },
  {
   "cell_type": "code",
   "execution_count": null,
   "metadata": {},
   "outputs": [],
   "source": [
    "#Export the report & rename as all reports download with same name\n",
    "driver.find_element_by_id('ctl00_MainContent_ReportViewer1_ctl05_ctl04_ctl00_ButtonLink').click()\n",
    "driver.find_element_by_link_text(\"Excel\").click()"
   ]
  },
  {
   "cell_type": "code",
   "execution_count": null,
   "metadata": {},
   "outputs": [],
   "source": [
    "#Allow time for report to download\n",
    "time.sleep(1.5)"
   ]
  },
  {
   "cell_type": "code",
   "execution_count": 12,
   "metadata": {},
   "outputs": [],
   "source": [
    "shutil.move('C:/Users/vorbej1/Downloads/GroupLevelIncidents.xls', 'C:/Users/vorbej1/Desktop/IMS/RTC' + \" \" + TodaysDate + '.xls')"
   ]
  },
  {
   "cell_type": "code",
   "execution_count": 255,
   "metadata": {},
   "outputs": [],
   "source": [
    "#RTC report now stored in downloads folder \n",
    "#Move to preventable RTC report"
   ]
  },
  {
   "cell_type": "code",
   "execution_count": 256,
   "metadata": {},
   "outputs": [],
   "source": [
    "#Switch back to main tab\n",
    "driver.switch_to.window(main_window)"
   ]
  },
  {
   "cell_type": "code",
   "execution_count": 257,
   "metadata": {},
   "outputs": [],
   "source": [
    "#Select Preventable RTC report\n",
    "driver.find_element_by_xpath('//a[@tabindex=\"5\"]').click()"
   ]
  },
  {
   "cell_type": "code",
   "execution_count": 258,
   "metadata": {},
   "outputs": [],
   "source": [
    "#Switch to Preventable RTC report tab\n",
    "prev_rtc_window = driver.window_handles[2]\n",
    "driver.switch_to.window(prev_rtc_window)"
   ]
  },
  {
   "cell_type": "code",
   "execution_count": 259,
   "metadata": {},
   "outputs": [],
   "source": [
    "#Export the report\n",
    "driver.find_element_by_id('ctl00_MainContent_ReportViewer1_ctl05_ctl04_ctl00_ButtonLink').click()\n",
    "driver.find_element_by_link_text(\"Excel\").click()"
   ]
  },
  {
   "cell_type": "code",
   "execution_count": 260,
   "metadata": {},
   "outputs": [],
   "source": [
    "#Allow time for report to download\n",
    "time.sleep(1.5)"
   ]
  },
  {
   "cell_type": "code",
   "execution_count": 261,
   "metadata": {},
   "outputs": [
    {
     "data": {
      "text/plain": [
       "'C:/Users/vorbej1/Desktop/IMS/Prev_RTC.xls'"
      ]
     },
     "execution_count": 261,
     "metadata": {},
     "output_type": "execute_result"
    }
   ],
   "source": [
    "shutil.move('C:/Users/vorbej1/Downloads/GroupLevelIncidents.xls', 'C:/Users/vorbej1/Desktop/IMS/Prev_RTC' + \" \" + TodaysDate + '.xls')"
   ]
  },
  {
   "cell_type": "code",
   "execution_count": 262,
   "metadata": {},
   "outputs": [],
   "source": [
    "#Preventable RTC report now stored in downloads folder \n",
    "#Move to preventable RTC report"
   ]
  },
  {
   "cell_type": "code",
   "execution_count": 263,
   "metadata": {},
   "outputs": [],
   "source": [
    "#Switch back to main tab\n",
    "driver.switch_to.window(main_window)"
   ]
  },
  {
   "cell_type": "code",
   "execution_count": 264,
   "metadata": {},
   "outputs": [],
   "source": [
    "#Select OSHA Incidents report\n",
    "driver.find_element_by_xpath('//a[@tabindex=\"7\"]').click()"
   ]
  },
  {
   "cell_type": "code",
   "execution_count": 265,
   "metadata": {},
   "outputs": [],
   "source": [
    "#Switch to OSHA Incidents report tab\n",
    "osha_window = driver.window_handles[3]\n",
    "driver.switch_to.window(osha_window)"
   ]
  },
  {
   "cell_type": "code",
   "execution_count": 266,
   "metadata": {},
   "outputs": [],
   "source": [
    "#Export the report\n",
    "driver.find_element_by_id('ctl00_MainContent_ReportViewer1_ctl05_ctl04_ctl00_ButtonLink').click()\n",
    "driver.find_element_by_link_text(\"Excel\").click()"
   ]
  },
  {
   "cell_type": "code",
   "execution_count": 267,
   "metadata": {},
   "outputs": [],
   "source": [
    "#Allow time for report to download\n",
    "time.sleep(1.5)"
   ]
  },
  {
   "cell_type": "code",
   "execution_count": 268,
   "metadata": {},
   "outputs": [
    {
     "data": {
      "text/plain": [
       "'C:/Users/vorbej1/Desktop/IMS/OSHA_Inc.xls'"
      ]
     },
     "execution_count": 268,
     "metadata": {},
     "output_type": "execute_result"
    }
   ],
   "source": [
    "shutil.move('C:/Users/vorbej1/Downloads/GroupLevelIncidents.xls', 'C:/Users/vorbej1/Desktop/IMS/OSHA_Inc' + \" \" + TodaysDate + '.xls')"
   ]
  },
  {
   "cell_type": "code",
   "execution_count": 269,
   "metadata": {},
   "outputs": [],
   "source": [
    "#Preventable RTC report now stored in downloads folder \n",
    "#Move to OSHA Incidents report"
   ]
  },
  {
   "cell_type": "code",
   "execution_count": 270,
   "metadata": {},
   "outputs": [],
   "source": [
    "#Switch back to main tab\n",
    "driver.switch_to.window(main_window)"
   ]
  },
  {
   "cell_type": "code",
   "execution_count": 271,
   "metadata": {},
   "outputs": [],
   "source": [
    "#Select Lost Time Incidents report\n",
    "driver.find_element_by_xpath('//a[@tabindex=\"11\"]').click()"
   ]
  },
  {
   "cell_type": "code",
   "execution_count": 272,
   "metadata": {},
   "outputs": [],
   "source": [
    "#Switch to Lost Time Incidents report tab\n",
    "lost_time_window = driver.window_handles[4]\n",
    "driver.switch_to.window(lost_time_window)"
   ]
  },
  {
   "cell_type": "code",
   "execution_count": 273,
   "metadata": {},
   "outputs": [],
   "source": [
    "#Export the report\n",
    "driver.find_element_by_id('ctl00_MainContent_ReportViewer1_ctl05_ctl04_ctl00_ButtonLink').click()\n",
    "driver.find_element_by_link_text(\"Excel\").click()"
   ]
  },
  {
   "cell_type": "code",
   "execution_count": 274,
   "metadata": {},
   "outputs": [],
   "source": [
    "#Allow time for report to download\n",
    "time.sleep(1.5)"
   ]
  },
  {
   "cell_type": "code",
   "execution_count": 275,
   "metadata": {},
   "outputs": [
    {
     "data": {
      "text/plain": [
       "'C:/Users/vorbej1/Desktop/IMS/Lost_Time.xls'"
      ]
     },
     "execution_count": 275,
     "metadata": {},
     "output_type": "execute_result"
    }
   ],
   "source": [
    "shutil.move('C:/Users/vorbej1/Downloads/GroupLevelIncidents.xls', 'C:/Users/vorbej1/Desktop/IMS/Lost_Time' + \" \" + TodaysDate + '.xls')"
   ]
  },
  {
   "cell_type": "code",
   "execution_count": 311,
   "metadata": {},
   "outputs": [],
   "source": [
    "#Read in the 4 reports\n",
    "#RTC = pd.read_excel(open('C:/Users/vorbej1/Desktop/IMS/RTC.xls','rb'), sheet_name='GroupLevelIncidents', skiprows=4)\n",
    "\n",
    "#Prev_RTC = pd.read_excel(open('C:/Users/vorbej1/Desktop/IMS/Prev_RTC.xls','rb'), sheet_name='GroupLevelIncidents', skiprows=4)\n",
    "\n",
    "#OSHA_Inc = pd.read_excel(open('C:/Users/vorbej1/Desktop/IMS/OSHA_Inc.xls','rb'), sheet_name='GroupLevelIncidents', skiprows=4)\n",
    "\n",
    "#Lost_Time = pd.read_excel(open('C:/Users/vorbej1/Desktop/IMS/Lost_Time.xls','rb'), sheet_name='GroupLevelIncidents', skiprows=4)"
   ]
  },
  {
   "cell_type": "code",
   "execution_count": 312,
   "metadata": {},
   "outputs": [],
   "source": [
    "#Concatenate reports\n",
    "#full_ims_report = pd.concat([RTC, Prev_RTC, OSHA_Inc, Lost_Time])"
   ]
  },
  {
   "cell_type": "code",
   "execution_count": null,
   "metadata": {},
   "outputs": [],
   "source": [
    "path = os.getcwd('C:/Users/vorbej1/desktop/IMS/')\n",
    "files = os.listdir(path)\n",
    "files"
   ]
  },
  {
   "cell_type": "code",
   "execution_count": null,
   "metadata": {},
   "outputs": [],
   "source": [
    "files_xls = [f for f in files if f[-3:] == 'xls']\n",
    "files_xls"
   ]
  },
  {
   "cell_type": "code",
   "execution_count": null,
   "metadata": {},
   "outputs": [],
   "source": [
    "for f in files_xls:\n",
    "    data = pd.read_excel(open(f, 'rb', sheet_name = 'GroupLevelIncidents', skiprows=4)\n",
    "    df = df.append(data)"
   ]
  }
 ],
 "metadata": {
  "kernelspec": {
   "display_name": "Python 3",
   "language": "python",
   "name": "python3"
  },
  "language_info": {
   "codemirror_mode": {
    "name": "ipython",
    "version": 3
   },
   "file_extension": ".py",
   "mimetype": "text/x-python",
   "name": "python",
   "nbconvert_exporter": "python",
   "pygments_lexer": "ipython3",
   "version": "3.7.3"
  }
 },
 "nbformat": 4,
 "nbformat_minor": 2
}
